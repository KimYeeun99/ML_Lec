{
 "cells": [
  {
   "cell_type": "markdown",
   "metadata": {},
   "source": [
    "# 다항 선형 회귀에 대한 경사 하강법의 원리: 집값 예측"
   ]
  },
  {
   "cell_type": "markdown",
   "metadata": {},
   "source": [
    "## 1. 집값 데이터 읽기"
   ]
  },
  {
   "cell_type": "code",
   "execution_count": 1,
   "metadata": {},
   "outputs": [
    {
     "name": "stdout",
     "output_type": "stream",
     "text": [
      "    size  n_room   price\n",
      "0   2104       3  399900\n",
      "1   1600       3  329900\n",
      "2   2400       3  369000\n",
      "3   1416       2  232000\n",
      "4   3000       4  539900\n",
      "5   1985       4  299900\n",
      "6   1534       3  314900\n",
      "7   1427       3  198999\n",
      "8   1380       3  212000\n",
      "9   1494       3  242500\n",
      "10  1940       4  239999\n",
      "11  2000       3  347000\n",
      "12  1890       3  329999\n",
      "13  4478       5  699900\n",
      "14  1268       3  259900\n",
      "15  2300       4  449900\n",
      "16  1320       2  299900\n",
      "17  1236       3  199900\n",
      "18  2609       4  499998\n",
      "19  3031       4  599000\n",
      "20  1767       3  252900\n",
      "21  1888       2  255000\n",
      "22  1604       3  242900\n",
      "23  1962       4  259900\n",
      "24  3890       3  573900\n",
      "25  1100       3  249900\n",
      "26  1458       3  464500\n",
      "27  2526       3  469000\n",
      "28  2200       3  475000\n",
      "29  2637       3  299900\n",
      "30  1839       2  349900\n",
      "31  1000       1  169900\n",
      "32  2040       4  314900\n",
      "33  3137       3  579900\n",
      "34  1811       4  285900\n",
      "35  1437       3  249900\n",
      "36  1239       3  229900\n",
      "37  2132       4  345000\n",
      "38  4215       4  549000\n",
      "39  2162       4  287000\n",
      "40  1664       2  368500\n",
      "41  2238       3  329900\n",
      "42  2567       4  314000\n",
      "43  1200       3  299000\n",
      "44   852       2  179900\n",
      "45  1852       4  299900\n",
      "46  1203       3  239500\n"
     ]
    }
   ],
   "source": [
    "import numpy as np\n",
    "\n",
    "# (집 크기(피트제곱)), (방개수(개)), (가격(달러))\n",
    "# Ng, Machine Learning, Coursera, ml-ex1 중\n",
    "import pandas as pd\n",
    "data = pd.read_csv('house_price_us.txt', names=['size', 'n_room', 'price'])\n",
    "print data\n",
    "\n",
    "X = np.c_[data['size'], data['n_room']] #제곱피트(ft^2)\n",
    "y = data['price'] #$(달러)\n",
    "m = len(data) #정보 개수(행 개수)"
   ]
  },
  {
   "cell_type": "code",
   "execution_count": 2,
   "metadata": {},
   "outputs": [
    {
     "name": "stdout",
     "output_type": "stream",
     "text": [
      "(47, 2) (47, 1)\n"
     ]
    }
   ],
   "source": [
    "#numpy array 형태로 변환, 형태 변환(m) -> (m,1)\n",
    "X = (np.array(X)).reshape(m,2)\n",
    "y = (np.array(y)).reshape(m,1)\n",
    "print X.shape, y.shape"
   ]
  },
  {
   "cell_type": "markdown",
   "metadata": {},
   "source": [
    "## 2. 그래프 그리기"
   ]
  },
  {
   "cell_type": "code",
   "execution_count": 4,
   "metadata": {},
   "outputs": [
    {
     "data": {
      "image/png": "[encoded data removed]",
      "text/plain": [
       "<Figure size 432x288 with 1 Axes>"
      ]
     },
     "metadata": {},
     "output_type": "display_data"
    },
    {
     "data": {
      "image/png": "[encoded data removed]",
      "text/plain": [
       "<Figure size 432x288 with 1 Axes>"
      ]
     },
     "metadata": {},
     "output_type": "display_data"
    }
   ],
   "source": [
    "import matplotlib.pyplot as plt\n",
    "plt.plot(X[:,0].reshape(-1), y, 'b.') #X[:.1].reshape(-1) : 한 줄로 피기. (47,)->(47)\n",
    "plt.xlabel(\"Size of a house in ft^2\") #집 크기(제곱피트)\n",
    "plt.ylabel(\"Price in $\") #매매가(달러)\n",
    "plt.show()\n",
    "\n",
    "plt.plot(X[:,1].reshape(-1), y, 'b.')\n",
    "plt.xlabel(\"# of rooms\") #방 개수\n",
    "plt.ylabel(\"Price in $\") #매매가(달러)\n",
    "plt.show()"
   ]
  },
  {
   "cell_type": "markdown",
   "metadata": {},
   "source": [
    "## 3. Feature scaling(normalization)\n",
    "## $ x_i = \\frac{x_i-\\mu_i}{s_i} $"
   ]
  },
  {
   "cell_type": "code",
   "execution_count": 7,
   "metadata": {},
   "outputs": [],
   "source": [
    "def featureNormalize(X): #X(47,2)\n",
    "    # 1. 각 feature 의 평균, 표준편차 계산\n",
    "    mu = np.mean(X, axis=0) #(47,2) -> (1,2)\n",
    "    std = np.std(X, axis=0) #(47,2) -> (1,2)\n",
    "    \n",
    "    # 2. (각 값 - 평균) / 표준편차\n",
    "    X_norm = (X - mu) / std\n",
    "    \n",
    "    return X_norm, mu, std"
   ]
  },
  {
   "cell_type": "code",
   "execution_count": 8,
   "metadata": {},
   "outputs": [
    {
     "name": "stdout",
     "output_type": "stream",
     "text": [
      "(47, 2)\n"
     ]
    }
   ],
   "source": [
    "X, mu, std = featureNormalize(X)\n",
    "print X.shape"
   ]
  },
  {
   "cell_type": "markdown",
   "metadata": {},
   "source": [
    "## 4. Gradient descent -> theta"
   ]
  },
  {
   "cell_type": "code",
   "execution_count": 9,
   "metadata": {},
   "outputs": [
    {
     "name": "stdout",
     "output_type": "stream",
     "text": [
      "theta:\n",
      "[[340307.35806099]\n",
      " [107757.48336607]\n",
      " [ -4888.3624174 ]]\n"
     ]
    }
   ],
   "source": [
    "X_b = np.c_[np.ones((m,1)), X] # 모든 샘플에 x0=1을 추가\n",
    "#c_ : concatenation. 배열을 옆으로 붙이기\n",
    "\n",
    "learning_rate = 0.01 #학습률(learning rate)\n",
    "n_iter = 400\n",
    "\n",
    "theta = np.random.randn(3,1) #무작위 초기화\n",
    "gradients = np.zeros((3,1))\n",
    "\n",
    "for i in range(n_iter):\n",
    "    gradients = 2.0/m * X_b.T.dot(X_b.dot(theta) - y)\n",
    "    theta = theta - learning_rate * gradients\n",
    "print \"theta:\"\n",
    "print theta"
   ]
  },
  {
   "cell_type": "markdown",
   "metadata": {},
   "source": [
    "## 5. 임의의 집 크기(x_my)에 대한 집값 예측하기"
   ]
  },
  {
   "cell_type": "code",
   "execution_count": 10,
   "metadata": {},
   "outputs": [
    {
     "name": "stdout",
     "output_type": "stream",
     "text": [
      "[[-1.41271579 -1.5543919 ]]\n",
      "[[195675.09112796]] 달러\n"
     ]
    }
   ],
   "source": [
    "X_mine = np.array([[890, 2]]) #우리집이 25평이라면, 얼마일까? 25평 -> 890 피트제곱(ft^2)\n",
    "X_mine = (X_mine - mu) / std #feture normalizetion\n",
    "print X_mine\n",
    "\n",
    "X_mine_b = np.c_[np.ones((1,1)), X_mine] #모든 샘플에 x0=1을 추가\n",
    "y_predict = X_mine_b.dot(theta)\n",
    "print y_predict, \"달러\""
   ]
  },
  {
   "cell_type": "markdown",
   "metadata": {},
   "source": [
    "## 6. (Optional) 반복 횟수에 따른 비용함수 J($\\theta$) 그리기"
   ]
  },
  {
   "cell_type": "code",
   "execution_count": 11,
   "metadata": {},
   "outputs": [],
   "source": [
    "import numpy as np\n",
    "import matplotlib.pyplot as plt\n",
    "%matplotlib inline"
   ]
  },
  {
   "cell_type": "code",
   "execution_count": 16,
   "metadata": {},
   "outputs": [],
   "source": [
    "def ComputeJ(t0, t1, t2, X, y):\n",
    "    m = len(X)\n",
    "    X_b = np.c_[np.ones((m,1)), X] #모든 샘플에 x0=1을 추가\n",
    "    theta = np.array([t0, t1, t2])\n",
    "    \n",
    "    cost_vector = X_b.dot(theta) - y #(52,1)\n",
    "    \n",
    "    cost_vector = cost_vector.reshape(-1)\n",
    "    #각 원소 제곱\n",
    "    cost2 = np.square(cost_vector)\n",
    "    #원소들 더하기\n",
    "    cost_sum = np.sum(cost2) / (2*m)\n",
    "    \n",
    "    return cost_sum"
   ]
  },
  {
   "cell_type": "code",
   "execution_count": 13,
   "metadata": {},
   "outputs": [
    {
     "name": "stdout",
     "output_type": "stream",
     "text": [
      "(47, 2) (47, 1)\n",
      "(47, 2)\n"
     ]
    }
   ],
   "source": [
    "X = np.c_[data['size'], data['n_room']] #제곱피트(ft^2)\n",
    "y = data['price'] #$(달러)\n",
    "m = len(data) #정보 개수(행 개수)\n",
    "\n",
    "#numpy array 형태로 변환, 형태 변환 (m) -> (m,1)\n",
    "X = (np.array(X)).reshape(m,2)\n",
    "y = (np.array(y)).reshape(m,1)\n",
    "print X.shape, y.shape\n",
    "\n",
    "#feature normalization\n",
    "X, mu, std = featureNormalize(X)\n",
    "print X.shape"
   ]
  },
  {
   "cell_type": "code",
   "execution_count": 17,
   "metadata": {},
   "outputs": [
    {
     "name": "stdout",
     "output_type": "stream",
     "text": [
      "theta:\n",
      "[[340307.35778817]\n",
      " [107757.45927566]\n",
      " [ -4888.33832908]]\n"
     ]
    }
   ],
   "source": [
    "X_b = np.c_[np.ones((m,1)), X] #모든 샘플에 x0=1을 추가\n",
    "# c_ :concatenation. 배열을 옆으로 붙이기\n",
    "\n",
    "learning_rate = 0.01 #학습률(learning rate)\n",
    "n_iter = 400\n",
    "\n",
    "theta = np.random.randn(3,1) #무작위 초기화\n",
    "gradients = np.zeros((3,1))\n",
    "\n",
    "itr_arr=[]\n",
    "cost_arr=[]\n",
    "for i in range(n_iter):\n",
    "    gradients = 2.0/m * X_b.T.dot(X_b.dot(theta) - y)\n",
    "    theta = theta - learning_rate * gradients\n",
    "    \n",
    "    cost = ComputeJ(theta[0], theta[1], theta[2], X, y)\n",
    "    cost_arr.append(cost)\n",
    "    itr_arr.append(i)\n",
    "print \"theta:\"\n",
    "print theta"
   ]
  },
  {
   "cell_type": "code",
   "execution_count": 18,
   "metadata": {},
   "outputs": [
    {
     "data": {
      "image/png": "[encoded data removed]",
      "text/plain": [
       "<Figure size 432x288 with 1 Axes>"
      ]
     },
     "metadata": {},
     "output_type": "display_data"
    }
   ],
   "source": [
    "plt.plot(itr_arr, cost_arr)\n",
    "plt.xlabel(\"number of iterations\")\n",
    "plt.ylabel(\"cost J\")\n",
    "plt.show()"
   ]
  }
 ],
 "metadata": {
  "kernelspec": {
   "display_name": "conda_pytorch_p27",
   "language": "python",
   "name": "conda_pytorch_p27"
  },
  "language_info": {
   "codemirror_mode": {
    "name": "ipython",
    "version": 2
   },
   "file_extension": ".py",
   "mimetype": "text/x-python",
   "name": "python",
   "nbconvert_exporter": "python",
   "pygments_lexer": "ipython2",
   "version": "2.7.15"
  }
 },
 "nbformat": 4,
 "nbformat_minor": 4
}
